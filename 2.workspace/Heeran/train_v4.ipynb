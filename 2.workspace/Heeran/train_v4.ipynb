{
  "nbformat": 4,
  "nbformat_minor": 0,
  "metadata": {
    "colab": {
      "name": "train_2.1_600_frames_tuned_v4.ipynb",
      "provenance": [],
      "collapsed_sections": [],
      "machine_shape": "hm"
    },
    "kernelspec": {
      "name": "python3",
      "display_name": "Python 3"
    },
    "accelerator": "GPU"
  },
  "cells": [
    {
      "cell_type": "code",
      "metadata": {
        "id": "Q64yX9PvXUTv"
      },
      "source": [
        "from google.colab import drive\n",
        "drive.mount('/content/gdrive')"
      ],
      "execution_count": 6,
      "outputs": []
    },
    {
      "cell_type": "code",
      "metadata": {
        "id": "sA4NlQ5Y8D1t"
      },
      "source": [
        "!tar xzvf /content/gdrive/MyDrive/darknet/cudnn/cudnn-10.1-linux-x64-v8.0.4.30.tgz -C /usr/local/"
      ],
      "execution_count": 5,
      "outputs": []
    },
    {
      "cell_type": "code",
      "metadata": {
        "id": "OchabtwF8EYE"
      },
      "source": [
        "!cat /usr/local/cuda/include/cudnn_version.h | grep CUDNN_MAJOR -A 2"
      ],
      "execution_count": 7,
      "outputs": []
    },
    {
      "cell_type": "code",
      "metadata": {
        "id": "2cA7Tuus01NM"
      },
      "source": [
        "%cd /content/gdrive/MyDrive/darknet/bin/darknet"
      ],
      "execution_count": 8,
      "outputs": []
    },
    {
      "cell_type": "code",
      "metadata": {
        "id": "hG5_oXME1-FT"
      },
      "source": [
        "!chmod +x ./darknet"
      ],
      "execution_count": null,
      "outputs": []
    },
    {
      "cell_type": "code",
      "metadata": {
        "id": "cxzBXon4Frot"
      },
      "source": [
        "%ls"
      ],
      "execution_count": 9,
      "outputs": []
    },
    {
      "cell_type": "code",
      "metadata": {
        "id": "4Gp2_LYf3mIq"
      },
      "source": [
        "# Train\r\n",
        "!LD_LIBRARY_PATH=/usr/local/cuda/lib64 ./darknet detector train train_2.1_600_frames_tuned_v4/r1mini.data train_2.1_600_frames_tuned_v4/yolov4.cfg -dont_show"
      ],
      "execution_count": null,
      "outputs": []
    },
    {
      "cell_type": "code",
      "metadata": {
        "id": "3dPHpE48DyJX"
      },
      "source": [
        "# mAP 확인\r\n",
        "!LD_LIBRARY_PATH=/usr/local/cuda/lib64 ./darknet detector map train_2.1_600_frames_tuned_v4/r1mini.data train_2.1_600_frames_tuned_v4/yolov4.cfg train_2.1_600_frames_tuned_v4/backup/yolov4_6000.weights"
      ],
      "execution_count": null,
      "outputs": []
    },
    {
      "cell_type": "code",
      "metadata": {
        "id": "4hZcPeLd1HDY"
      },
      "source": [
        "# video train 확인\r\n",
        "!LD_LIBRARY_PATH=/usr/local/cuda/lib64 ./darknet detector demo train_2.1_600_frames_tuned_v4/r1mini.data train_2.1_600_frames_tuned_v4/yolov4.cfg train_2.1_600_frames_tuned_v4/backup/yolov4_4000.weights ./fastandfurious_short.mov -i 0 -out_filename 600fr_v4.mov -dont_show"
      ],
      "execution_count": null,
      "outputs": []
    },
    {
      "cell_type": "code",
      "metadata": {
        "id": "Gd2Q8fCpjLov"
      },
      "source": [
        "# ROI\r\n",
        "!LD_LIBRARY_PATH=/usr/local/cuda/lib64 ./darknet detector test train_2/r1mini.data train_2/yolov3.cfg train_2/backup/yolov3_last.weights -ext_output train_2/r1mini/test.jpg"
      ],
      "execution_count": null,
      "outputs": []
    },
    {
      "cell_type": "code",
      "metadata": {
        "id": "puXnpUiUDDI5"
      },
      "source": [
        "# 폴더에 있는 모든 img를 predict하기\r\n",
        "\r\n",
        "# 변수 선언\r\n",
        "\r\n",
        "#1. predict할 파일 들어있는 폴더 (txt파일에 입력될 path기 때문에 절대경로 추천, 마지막에 꼭 '/' 넣어줘야함.)\r\n",
        "image_directory = '/content/gdrive/MyDrive/darknet/bin/darknet/train_2.1_600_frames_tuned_v4/final_test/'\r\n",
        "#2. 확장자\r\n",
        "extension = \"*.jpg\"\r\n",
        "#3. txt파일 저장경로 및 파일 이름\r\n",
        "save_at = './re.txt'\r\n",
        "#4. predicted_pics 저장 경로+ 파일 이름 ex) predicted_img0.jpg,predicted_img1, ~ predicted_img10 로 저장할거면 아래처럼\r\n",
        "predicted_pics_path ='/content/gdrive/MyDrive/darknet/bin/darknet/predicted_img/600_frames_v4_wt2000/'\r\n",
        "\r\n",
        "# ***************************************************************************************************\r\n",
        "# 아래는 걍 이것저것 편하게 넣어보려고 함수화한 것, 불필요하면 해당 자리에 그냥 사용하시는 커맨드 + $img_path 입력하면 됨 (.py로 선언 불가)\r\n",
        "# ex) !./darknet detector test train/r1mini.data train/yolov3.cfg train/backup/yolov3_final.weights $img_path\r\n",
        "#5. .data 파일 경로\r\n",
        "data_path = '/content/gdrive/MyDrive/darknet/bin/darknet/train_2.1_600_frames_tuned_v4/r1mini.data'\r\n",
        "#6. config 파일 경로\r\n",
        "cfg_path = '/content/gdrive/MyDrive/darknet/bin/darknet/train_2.1_600_frames_tuned_v4/yolov4.cfg'\r\n",
        "#7. weights 파일 경로\r\n",
        "weights_path = '/content/gdrive/MyDrive/darknet/bin/darknet/train_2.1_600_frames_tuned_v4/backup/yolov4_2000.weights'\r\n",
        "\r\n",
        "#command 함수\r\n",
        "def darknet_predict_img(data_path,cfg_path,weights_path,img_path):\r\n",
        "    !LD_LIBRARY_PATH=/usr/local/cuda/lib64 ./darknet detector test $data_path $cfg_path $weights_path $img_path\r\n",
        "\r\n",
        "\r\n",
        "import glob\r\n",
        "import PIL\r\n",
        "import PIL.Image as Image\r\n",
        "import make_path_txt\r\n",
        "import os\r\n",
        "\r\n",
        "\r\n",
        "\r\n",
        "d=0\r\n",
        "with open(make_path_txt.make_data_path(image_directory,extension, save_at),'r') as fobj:\r\n",
        "        image_List = [[num for num in line.split()] for line in fobj]\r\n",
        "        for images in image_List:\r\n",
        "            # print(images[0])\r\n",
        "            img_path=images[0]\r\n",
        "            darknet_predict_img(data_path,cfg_path,weights_path,img_path)\r\n",
        "            #다크넷 경로 + prdictions.jpg\r\n",
        "            predicted_image = Image.open(str(os.getcwd())+'/'+'predictions'+extension[1:])\r\n",
        "            #predict 결과 저장할 경로+ 파일이름\r\n",
        "            output = predicted_pics_path + '{}{}'.format(d,extension[1:])\r\n",
        "            predicted_image.save(output) \r\n",
        "            d+=1"
      ],
      "execution_count": 10,
      "outputs": []
    },
    {
      "cell_type": "code",
      "metadata": {
        "id": "EZj7gi09DNeu"
      },
      "source": [
        "# Train 중단뒤 다시 연결하기\r\n",
        "!LD_LIBRARY_PATH=/usr/local/cuda/lib64 ./darknet detector train train_3/r1mini.data train_3/yolov3.cfg train_3/backup/yolov3_2000.weights -dont_show"
      ],
      "execution_count": null,
      "outputs": []
    }
  ]
}