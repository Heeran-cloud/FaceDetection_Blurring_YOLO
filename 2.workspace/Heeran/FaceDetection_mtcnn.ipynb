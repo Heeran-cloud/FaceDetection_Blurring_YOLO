{
  "nbformat": 4,
  "nbformat_minor": 0,
  "metadata": {
    "colab": {
      "name": "FaceDetection_mtcnn.ipynb",
      "provenance": [],
      "collapsed_sections": []
    },
    "kernelspec": {
      "name": "python3",
      "display_name": "Python 3"
    }
  },
  "cells": [
    {
      "cell_type": "code",
      "metadata": {
        "colab": {
          "base_uri": "https://localhost:8080/"
        },
        "id": "wrExzSsOOhvf",
        "outputId": "45de400f-6ba3-4d8b-9963-f81a5885d148"
      },
      "source": [
        "!python --version"
      ],
      "execution_count": 1,
      "outputs": [
        {
          "output_type": "stream",
          "text": [
            "Python 3.7.10\n"
          ],
          "name": "stdout"
        }
      ]
    },
    {
      "cell_type": "code",
      "metadata": {
        "id": "dl8SJeJEOnu0"
      },
      "source": [
        "from google.colab import drive\r\n",
        "drive.mount('/content/gdrive')"
      ],
      "execution_count": null,
      "outputs": []
    },
    {
      "cell_type": "code",
      "metadata": {
        "id": "67yweEAqOiU5"
      },
      "source": [
        "!pip install mtcnn"
      ],
      "execution_count": null,
      "outputs": []
    },
    {
      "cell_type": "code",
      "metadata": {
        "id": "v_xj9OTsOqfJ"
      },
      "source": [
        "from mtcnn import MTCNN\r\n",
        "import cv2\r\n",
        "img = cv2.cvtColor(cv2.imread(\"train_3/valid_3.jpeg\"), cv2.COLOR_BGR2RGB)\r\n",
        "detector = MTCNN()\r\n",
        "detections = detector.detect_faces(img)\r\n",
        "detections"
      ],
      "execution_count": null,
      "outputs": []
    },
    {
      "cell_type": "code",
      "metadata": {
        "id": "Zl2182mgOtJa"
      },
      "source": [
        "import matplotlib.pyplot as plt\r\n",
        "\r\n",
        "img_with_dets = img.copy()\r\n",
        "min_conf = 0.9\r\n",
        "for det in detections:\r\n",
        "    if det['confidence'] >= min_conf:\r\n",
        "        x, y, width, height = det['box']\r\n",
        "        keypoints = det['keypoints']\r\n",
        "        cv2.rectangle(img_with_dets, (x,y), (x+width,y+height), (0,155,255), 2)\r\n",
        "        # cv2.blur(img_with_dets,(x,y), (x+width,y+height), (0,155,255), 2)\r\n",
        "        cv2.circle(img_with_dets, (keypoints['left_eye']), 2, (0,155,255), 2)\r\n",
        "        cv2.circle(img_with_dets, (keypoints['right_eye']), 2, (0,155,255), 2)\r\n",
        "        cv2.circle(img_with_dets, (keypoints['nose']), 2, (0,155,255), 2)\r\n",
        "        cv2.circle(img_with_dets, (keypoints['mouth_left']), 2, (0,155,255), 2)\r\n",
        "        cv2.circle(img_with_dets, (keypoints['mouth_right']), 2, (0,155,255), 2)\r\n",
        "plt.figure(figsize = (10,10))\r\n",
        "plt.imshow(img_with_dets)\r\n",
        "plt.axis('off')"
      ],
      "execution_count": null,
      "outputs": []
    }
  ]
}