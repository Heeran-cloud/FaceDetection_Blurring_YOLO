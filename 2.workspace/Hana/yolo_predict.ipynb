{
 "cells": [
  {
   "cell_type": "code",
   "execution_count": null,
   "metadata": {
    "colab": {
     "base_uri": "https://localhost:8080/"
    },
    "executionInfo": {
     "elapsed": 47381,
     "status": "ok",
     "timestamp": 1611917275786,
     "user": {
      "displayName": "하나",
      "photoUrl": "https://lh3.googleusercontent.com/a-/AOh14GjBmPn_941uluiSHFbcQLMWqmAiBhuCtYN5o4eo=s64",
      "userId": "12329851087162825130"
     },
     "user_tz": -540
    },
    "id": "Q64yX9PvXUTv",
    "outputId": "21d9a37b-7a3e-415b-9f0d-f665c122fd2f"
   },
   "outputs": [
    {
     "name": "stdout",
     "output_type": "stream",
     "text": [
      "Mounted at /content/gdrive\n"
     ]
    }
   ],
   "source": [
    "from google.colab import drive\n",
    "drive.mount('/content/gdrive')"
   ]
  },
  {
   "cell_type": "code",
   "execution_count": null,
   "metadata": {
    "colab": {
     "base_uri": "https://localhost:8080/"
    },
    "executionInfo": {
     "elapsed": 1419,
     "status": "ok",
     "timestamp": 1611919850428,
     "user": {
      "displayName": "하나",
      "photoUrl": "https://lh3.googleusercontent.com/a-/AOh14GjBmPn_941uluiSHFbcQLMWqmAiBhuCtYN5o4eo=s64",
      "userId": "12329851087162825130"
     },
     "user_tz": -540
    },
    "id": "YzDyEuAKXV3k",
    "outputId": "9f3b8ff6-6878-43f7-d11d-ae2f84372095"
   },
   "outputs": [
    {
     "name": "stdout",
     "output_type": "stream",
     "text": [
      "/content/gdrive/MyDrive/Colab_Notebooks/darknet/bin/darknet\n"
     ]
    }
   ],
   "source": [
    "# 제 다크넷 폴더 경로\n",
    "%cd /content/gdrive/MyDrive/Colab_Notebooks/darknet/bin/darknet"
   ]
  },
  {
   "cell_type": "code",
   "execution_count": null,
   "metadata": {
    "colab": {
     "base_uri": "https://localhost:8080/"
    },
    "executionInfo": {
     "elapsed": 1030,
     "status": "ok",
     "timestamp": 1611917695983,
     "user": {
      "displayName": "하나",
      "photoUrl": "https://lh3.googleusercontent.com/a-/AOh14GjBmPn_941uluiSHFbcQLMWqmAiBhuCtYN5o4eo=s64",
      "userId": "12329851087162825130"
     },
     "user_tz": -540
    },
    "id": "pVvDj5CQZk4T",
    "outputId": "8994fa6e-bf30-46e9-d6e4-6acdfaccb3f6"
   },
   "outputs": [
    {
     "name": "stdout",
     "output_type": "stream",
     "text": [
      "backup\tr1mini\tr1mini.data  r1mini.names  train.txt  yolov3-tiny.cfg\n"
     ]
    }
   ],
   "source": [
    "!ls train/"
   ]
  },
  {
   "cell_type": "code",
   "execution_count": null,
   "metadata": {
    "id": "mVDCVdD7y793"
   },
   "outputs": [],
   "source": [
    "!chmod +x ./darknet"
   ]
  },
  {
   "cell_type": "code",
   "execution_count": null,
   "metadata": {
    "colab": {
     "base_uri": "https://localhost:8080/"
    },
    "executionInfo": {
     "elapsed": 803,
     "status": "ok",
     "timestamp": 1611919870415,
     "user": {
      "displayName": "하나",
      "photoUrl": "https://lh3.googleusercontent.com/a-/AOh14GjBmPn_941uluiSHFbcQLMWqmAiBhuCtYN5o4eo=s64",
      "userId": "12329851087162825130"
     },
     "user_tz": -540
    },
    "id": "WeiE_W3HYBYz",
    "outputId": "26fff30e-5531-4b8a-9305-e569ce4560bf"
   },
   "outputs": [
    {
     "name": "stdout",
     "output_type": "stream",
     "text": [
      "bad.list               \u001b[0m\u001b[01;32mdarknet\u001b[0m*                  predictions.jpg\n",
      "chart.png              fastandfurious_short.mov  \u001b[01;34mtrain\u001b[0m/\n",
      "chart_yolov3-tiny.png  frame29.jpg               yolov3-tiny_last.weights\n"
     ]
    }
   ],
   "source": [
    "%ls "
   ]
  },
  {
   "cell_type": "code",
   "execution_count": 1,
   "metadata": {
    "colab": {
     "base_uri": "https://localhost:8080/"
    },
    "executionInfo": {
     "elapsed": 370819,
     "status": "ok",
     "timestamp": 1611921326270,
     "user": {
      "displayName": "하나",
      "photoUrl": "https://lh3.googleusercontent.com/a-/AOh14GjBmPn_941uluiSHFbcQLMWqmAiBhuCtYN5o4eo=s64",
      "userId": "12329851087162825130"
     },
     "user_tz": -540
    },
    "id": "zyRUJiZ3ZwUP",
    "outputId": "0b97b0c4-8a9a-4c6a-f1fd-554b60034e6c"
   },
   "outputs": [
    {
     "name": "stdout",
     "output_type": "stream",
     "text": [
      "zsh:1: no such file or directory: ./darknet\r\n"
     ]
    }
   ],
   "source": [
    "# !./darknet :다크넷 경로 \n",
    "# detector : 명령어 \n",
    "# demo :명령어(영상 predict할 때 demo, 이미지 Predict할 때 test)\n",
    "#train/r1mini.data train/yolov3-tiny.cfg  :cfg파일 경로\n",
    "#./yolov3-tiny_last.weights  : 가중치 파일 경로\n",
    "#./fastandfurious_short.mov : predict할 영상 경로\n",
    "# -i 0 : 모름\n",
    "# -out_filename test.mov :predict된 영상 저장 이름과 확장자명\n",
    "# -dont_show :에러 안보겠다는 명령어\n",
    "\n",
    "!./darknet detector demo train/r1mini.data train/yolov3-tiny.cfg  ./yolov3-tiny_last.weights ./fastandfurious_short.mov -i 0 -out_filename test.mov -dont_show"
   ]
  },
  {
   "cell_type": "code",
   "execution_count": null,
   "metadata": {
    "id": "1jYTmSP7ZwZC"
   },
   "outputs": [],
   "source": []
  },
  {
   "cell_type": "code",
   "execution_count": null,
   "metadata": {
    "id": "ksbubkMbZwdy"
   },
   "outputs": [],
   "source": []
  }
 ],
 "metadata": {
  "accelerator": "GPU",
  "colab": {
   "collapsed_sections": [],
   "name": "predict.ipynb",
   "provenance": []
  },
  "kernelspec": {
   "display_name": "Python 3",
   "language": "python",
   "name": "python3"
  },
  "language_info": {
   "codemirror_mode": {
    "name": "ipython",
    "version": 3
   },
   "file_extension": ".py",
   "mimetype": "text/x-python",
   "name": "python",
   "nbconvert_exporter": "python",
   "pygments_lexer": "ipython3",
   "version": "3.7.9"
  }
 },
 "nbformat": 4,
 "nbformat_minor": 1
}
