{
 "cells": [
  {
   "cell_type": "markdown",
   "id": "further-affiliate",
   "metadata": {},
   "source": [
    "# video_cap.py 사용법\n",
    "- 2시간짜리 영화 7분정도 걸림"
   ]
  },
  {
   "cell_type": "code",
   "execution_count": null,
   "id": "fifty-investor",
   "metadata": {},
   "outputs": [],
   "source": [
    "import videocap as vc\n",
    "\n",
    "data_path = './data/'\n",
    "\n",
    "#캡쳐할 비디오\n",
    "videoFile = data_path+'Fast.and.Furious.7.2015.1080p.HDTV.KorSub.x264.mp4'\n",
    "\n",
    "#캡쳐 이미지 저장할 폴더\n",
    "imgpath = data_path+'movie_cap/'\n",
    "\n",
    "#time_skips 지정안해주면 모든 프레임 전부 캡쳐, 밀리초 단위로 입력해줘야함\n",
    "#그래서 이건 4초를 의미함, 이 영화의 경우 이렇게하면 2천여장정도 나올 것\n",
    "time_skips = float(4000) \n",
    "\n",
    "#앞에 인트로는 쓸데없으므로 건너뛰고 시작, default값은 0\n",
    "#skip_intro 이 영화의 경우 50초부터 영화 시작\n",
    "intro_skips = float(50000) \n",
    "\n",
    "vc.video_cap(videoFile, imgpath, time_skips=time_skips, intro_skips=intro_skips)"
   ]
  }
 ],
 "metadata": {
  "kernelspec": {
   "display_name": "Python 3",
   "language": "python",
   "name": "python3"
  },
  "language_info": {
   "codemirror_mode": {
    "name": "ipython",
    "version": 3
   },
   "file_extension": ".py",
   "mimetype": "text/x-python",
   "name": "python",
   "nbconvert_exporter": "python",
   "pygments_lexer": "ipython3",
   "version": "3.7.9"
  }
 },
 "nbformat": 4,
 "nbformat_minor": 5
}
