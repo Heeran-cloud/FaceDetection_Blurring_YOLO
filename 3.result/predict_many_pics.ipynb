{
  "nbformat": 4,
  "nbformat_minor": 0,
  "metadata": {
    "colab": {
      "name": "predict_many_pics.ipynb",
      "provenance": [],
      "collapsed_sections": []
    },
    "kernelspec": {
      "name": "python3",
      "display_name": "Python 3"
    },
    "accelerator": "GPU"
  },
  "cells": [
    {
      "cell_type": "markdown",
      "metadata": {
        "id": "WaK3L7CM0hOm"
      },
      "source": [
        "# MOUNT"
      ]
    },
    {
      "cell_type": "code",
      "metadata": {
        "colab": {
          "base_uri": "https://localhost:8080/"
        },
        "id": "uZ1HUyrz0eWy",
        "outputId": "8c310dde-3b61-4c0b-aaf1-e8daf01f25bd"
      },
      "source": [
        "from google.colab import drive\n",
        "drive.mount('/content/gdrive')"
      ],
      "execution_count": 1,
      "outputs": [
        {
          "output_type": "stream",
          "text": [
            "Drive already mounted at /content/gdrive; to attempt to forcibly remount, call drive.mount(\"/content/gdrive\", force_remount=True).\n"
          ],
          "name": "stdout"
        }
      ]
    },
    {
      "cell_type": "markdown",
      "metadata": {
        "id": "PIN1DTGiTsqX"
      },
      "source": [
        "# run darknet"
      ]
    },
    {
      "cell_type": "code",
      "metadata": {
        "id": "20a1F3cF1MHq"
      },
      "source": [
        "#다크넷 경로\n",
        "%cd /content/gdrive/MyDrive/Colab_Notebooks/proj/data/yolo\n",
        "!chmod +x ./darknet\n",
        "%ls "
      ],
      "execution_count": null,
      "outputs": []
    },
    {
      "cell_type": "markdown",
      "metadata": {
        "id": "HEZOpJ9ZTzc1"
      },
      "source": [
        "# predict pics"
      ]
    },
    {
      "cell_type": "code",
      "metadata": {
        "id": "G1CMLrnz0UpQ"
      },
      "source": [
        "#colab\n",
        "\n",
        "# 변수 선언\n",
        "\n",
        "#1. predict할 파일 들어있는 폴더 (txt파일에 입력될 path기 때문에 절대경로 추천, 마지막에 꼭 '/' 넣어줘야함.)\n",
        "image_directory = '/content/gdrive/MyDrive/Colab_Notebooks/proj/data/yolo/data_predict/captured_img3/'\n",
        "#2. 확장자\n",
        "extension = \"*.jpg\"\n",
        "#3. txt파일 저장경로 및 파일 이름\n",
        "save_at = './re.txt'\n",
        "#4. predicted_pics 저장 경로+ 파일 이름 ex) predicted_img0.jpg,predicted_img1, ~ predicted_img10 로 저장할거면 아래처럼\n",
        "predicted_pics_path ='/content/gdrive/MyDrive/Colab_Notebooks/proj/data/yolo/predicted_img'\n",
        "\n",
        "# ***************************************************************************************************\n",
        "# 아래는 걍 이것저것 편하게 넣어보려고 함수화한 것, 불필요하면 해당 자리에 그냥 사용하시는 커맨드 + $img_path 입력하면 됨 (.py로 선언 불가)\n",
        "# ex) !./darknet detector test train/r1mini.data train/yolov3.cfg train/backup/yolov3_final.weights $img_path\n",
        "#5. .data 파일 경로\n",
        "data_path = 'train_resize_Hana/r1mini.data'\n",
        "#6. config 파일 경로\n",
        "cfg_path = 'train_resize_Hana/yolov3-tiny.cfg'\n",
        "#7. weights 파일 경로\n",
        "weights_path = 'train_resize_Hana/backup_tiny3/yolov3-tiny_final.weights'\n",
        "\n",
        "#command 함수\n",
        "def darknet_predict_img(data_path,cfg_path,weights_path,img_path):\n",
        "    !./darknet detector test $data_path $cfg_path $weights_path $img_path\n",
        "\n",
        "\n",
        "import glob\n",
        "import PIL\n",
        "import PIL.Image as Image\n",
        "import make_path_txt\n",
        "import os\n",
        "\n",
        "\n",
        "\n",
        "d=0\n",
        "with open(make_path_txt.make_data_path(image_directory,extension, save_at),'r') as fobj:\n",
        "        image_List = [[num for num in line.split()] for line in fobj]\n",
        "        for images in image_List:\n",
        "            # print(images[0])\n",
        "            img_path=images[0]\n",
        "            darknet_predict_img(data_path,cfg_path,weights_path,img_path)\n",
        "            #다크넷 경로 + prdictions.jpg\n",
        "            predicted_image = Image.open(str(os.getcwd())+'/'+'predictions'+extension[1:])\n",
        "            #predict 결과 저장할 경로+ 파일이름\n",
        "            output = predicted_pics_path + '{}{}'.format(d,extension[1:])\n",
        "            predicted_image.save(output) \n",
        "            d+=1"
      ],
      "execution_count": null,
      "outputs": []
    }
  ]
}